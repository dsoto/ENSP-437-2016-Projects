{
 "cells": [
  {
   "cell_type": "markdown",
   "metadata": {},
   "source": [
    "# Final Project\n",
    "\n",
    "Team Name: Solar Gainz \n",
    "\n",
    "Team Members: Matt Hargadon, Sarah Caranza, Matt Uchiyama, Angel Garza  \n",
    "\n",
    "# Design Objectives\n",
    "\n",
    "- What performance objectives you set (temperature, price, etc.)\n",
    "Our objective is to trap as much heat into our box by our reflective design while using the sunlight reflected into the box to trap heat into our brilliantly designed rocks.\n",
    "\n",
    "# Design Strategy\n",
    "\n",
    "- For the design portion of the project, we quickly decided on creating a box that used the reflection from the sun's rays to bounce around inside the box. We kept the reflective part of the foam intanct and used a reflective tape of any portion of the box we assumed that light would touch. \n",
    "- For the window, we wanted to use something more durable than saran wrap, so we used an acrylic clear film that was durable against wind to reduce the energy loss during the night.\n",
    "- As we ran sample calculations using sagemathcloud, we estimated the need for about 3 layers of insultation so that the energy loss at night is about equal to the energy gain during the day. \n",
    "- For the thermal mass, we wanted to use rocks as the only source of heat, but later came to the conclusion that the amount we needed would easily exeed 30 pounds. So instead, we settled for using a fusion of rocks and water layered strategically around the box to hopefully recieve optimum sunlight.\n",
    "- We spray painted the rocks that we used black for easier absorption of light. Easier absorption would lead to more heat trapped in the rocks to last longer through the night.   \n",
    "![](my_photo.jpg)\n",
    "\n",
    "# Estimation of Performance\n",
    "\n",
    "### UA product\n",
    "We estimated our UA product to be about $\\frac{0.84  BTU}{F * hour}$\n",
    "### Expexted temperature difference\n",
    "Our goal was to have a 15 degree Fahrenheit difference in temperature, but with the amount of thermal mass we ended up using, we may see a temperature difference of about 10 degrees.\n",
    "### Night Energy Loss\n",
    "Our night loss seems sort of optimistic, but with our calculations we estimated it to be about \n",
    "$250 BTUs$ lost per night.\n",
    "### Daily Solar Gain\n",
    "##### Using our calculations:\n",
    "The daily solar gain seemed to be an underestimate, but with the weather conditions \n",
    "for the day we tested our box it may be about $180 BTU$\n",
    "##### Using the California Solar Radiation for Sacramento:\n",
    "The NREL solar radiation reading gave us a very optimistic estimation of $325 BTUs$ "
   ]
  },
  {
   "cell_type": "code",
   "execution_count": null,
   "metadata": {
    "collapsed": false
   },
   "outputs": [],
   "source": [
    "from pint import UnitRegistry\n",
    "u = UnitRegistry()\n",
    "area = 10 * u.feet**2\n",
    "u.define('R_US = foot**2 * delta_degF * hour / BTU')\n",
    "wall_r_value = (0.17 + 0.5 + 0.68) * u.R_US\n",
    "UA_product = area / wall_r_value\n",
    "print('Our UA product estimate is', UA_product.to(u.BTU/u.hour/u.delta_degF))\n",
    "print('Our UA product estimate is', UA_product.to(u.watt/u.delta_degC))"
   ]
  },
  {
   "cell_type": "markdown",
   "metadata": {
    "collapsed": false
   },
   "source": [
    "# Results\n",
    "\n",
    "- Include a graph of your temperature performance inside and the temperature outside\n",
    "- Include a graph of the temperature difference over time\n",
    "- Are the results what you expect?\n",
    "- What design improvements would you make?"
   ]
  },
  {
   "cell_type": "code",
   "execution_count": 4,
   "metadata": {
    "collapsed": false
   },
   "outputs": [
    {
     "data": {
      "image/png": "[encoded data removed]",
      "text/plain": [
       "<matplotlib.figure.Figure at 0x7fa5e3c65cc0>"
      ]
     },
     "metadata": {},
     "output_type": "display_data"
    }
   ],
   "source": [
    "%matplotlib inline\n",
    "import matplotlib.pyplot as plt\n",
    "import seaborn as sns\n",
    "import pandas as pd\n",
    "\n",
    "data = pd.read_csv('my_run.csv', parse_dates=True, index_col=0)\n",
    "data['t_diff'] = data['t_in_C'] - data['t_out_C']\n",
    "data[['t_in_C', 't_out_C', 't_diff']].plot()\n",
    "plt.title('My Title')\n",
    "plt.ylabel('Temperature (C)')\n",
    "plt.show()"
   ]
  },
  {
   "cell_type": "markdown",
   "metadata": {
    "collapsed": true
   },
   "source": []
  },
  {
   "cell_type": "code",
   "execution_count": null,
   "metadata": {
    "collapsed": true
   },
   "outputs": [],
   "source": []
  }
 ],
 "metadata": {
  "kernelspec": {
   "display_name": "Anaconda (Python 3)",
   "language": "python",
   "name": "anaconda3"
  },
  "language_info": {
   "codemirror_mode": {
    "name": "ipython",
    "version": 3
   },
   "file_extension": ".py",
   "mimetype": "text/x-python",
   "name": "python",
   "nbconvert_exporter": "python",
   "pygments_lexer": "ipython3",
   "version": "3.5.1"
  }
 },
 "nbformat": 4,
 "nbformat_minor": 0
}
