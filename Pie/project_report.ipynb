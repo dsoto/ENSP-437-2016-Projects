{
 "cells": [
  {
   "cell_type": "markdown",
   "metadata": {},
   "source": [
    "# Final Project\n",
    "\n",
    "Team Name: Team Pie\n",
    "\n",
    "Team Members: Josh Bedolla, Sebastian Carranza, Jorge Casanova, Claudette Diaz\n",
    "\n",
    "# Design Objectives\n",
    "\n",
    "- What performance objectives you set (temperature, price, etc.)\n",
    "    - The price range for this project was about 30- 40 dollars. This included the 5 dollars from each member which included the reflecting foam and the 16\" x 12\" x 12\" carboard box, as well as extra supplies, such as extra foil tape, the 10\" X 8\" polycarbonate sheet, the 10\" X 8\" glass sheet, crazy glue, and the expanding foam. \n",
    "    - The temperature range we decided was the typical range for a date in May for a period of 12 hours. We agreed that the highest temperature at night would be 60 degrees for HIGH and 45 degrees for LOW. \n",
    "    - The goal for this project was to keep the temperature temperate inside the box model. \n",
    "    - By calculating the UA Product Estimate, Nightly Energy Loss Estimate, Window Size, Daily Solar Gain, Mass Storage, and the Temperature Rise of the Storage, we were able to design our box.\n",
    "\n",
    "# Design Strategy\n",
    "\n",
    "- What was your overall strategy?\n",
    "\n",
    "![](my_photo.jpg)\n",
    "![](IMG_4490.JPG)\n",
    "\n",
    "\n",
    "# Estimation of Performance\n",
    "\n",
    "- Prove to yourself and your reader how you went about estimating your design needs\n",
    "    -\n",
    "- How did you determine the amount of insulation needed?\n",
    "    - We first went with one layer of foam all around the box, but our U value was too high so we doubled the foam. \n",
    "- How did you determine the amount of window needed? \n",
    "    - For our project we used two windows, which were both 10\" X 8 \". One window was a Polycarbonate sheet, which has an R-value of .18. The other window we used was a glass sheet, which has an R-value of .014\n",
    "- How did you determine the type and amount of thermal mass you used?\n",
    "    - We determined the type of thermal mass we needed because of the high heat capacity water has. Water is also known for being an excellent insulator. With this knowledge we were able to agree on 3 liters (3,000 grams) of water for our thermal mass. We decided on 3 liters of water by finding the temperature rise of the water inside the box. \n",
    "- How did you estimate the highest and lowest temperature you would observe?\n",
    "    - We needed to determine what the highest and lowest temperature would be for the time frame that our box would be outside. Assuming that the HIGH temperature at night would be 60 Degrees Fahrenheit and LOW would be 45 Degrees Fahrenheit. Our tempterature difference is 15 Degrees Fahrenheit. \n",
    "- Clearly show the basic details of your calculations.\n",
    "- Clearly summarize the outputs of your calculations.\n",
    "    - UA product\n",
    " \n",
    "    - Expected solar gain\n",
    "   "
   ]
  },
  {
   "cell_type": "code",
   "execution_count": 3,
   "metadata": {
    "collapsed": true
   },
   "outputs": [],
   "source": [
    "from pint import UnitRegistry\n",
    "u = UnitRegistry()"
   ]
  },
  {
   "cell_type": "markdown",
   "metadata": {},
   "source": [
    "# Calculations"
   ]
  },
  {
   "cell_type": "markdown",
   "metadata": {},
   "source": [
    "# UA Product Estimate"
   ]
  },
  {
   "cell_type": "markdown",
   "metadata": {},
   "source": [
    "UA Product for the walls\n",
    "\n",
    "To find the UA product of our walls, we divided the area of the box (9.72 ft^2) by the R-value of our walls (0.75 + 1.93). Our walls has a UA product of 3.6 BTU/degF/hour.\n",
    "\n",
    "    Equation used: q = UA(delta_T)"
   ]
  },
  {
   "cell_type": "code",
   "execution_count": 34,
   "metadata": {
    "collapsed": false
   },
   "outputs": [
    {
     "data": {
      "text/html": [
       "3.6268656716417915 btu/(delta_degF hour)"
      ],
      "text/latex": [
       "$3.6268656716417915 \\frac{btu}{\\left(delta_degF \\cdot hour\\right)}$"
      ],
      "text/plain": [
       "<Quantity(3.6268656716417915, 'btu / delta_degF / hour')>"
      ]
     },
     "execution_count": 34,
     "metadata": {},
     "output_type": "execute_result"
    }
   ],
   "source": [
    "area = 9.72 * u.foot**2\n",
    "wall_r_value = (0.75 + 1.93) * u.foot**2 * u.hour * u.delta_degF / u.BTU\n",
    "area / wall_r_value"
   ]
  },
  {
   "cell_type": "markdown",
   "metadata": {},
   "source": [
    "UA Product for the window\n",
    "\n",
    "To find the UA product of our window, we divided the area of the window (0.56 ft^2) by the R-value of our wwindow (0.18 + 0.014). Our window has a UA product of 2.9 BTU/degF/hour.\n",
    "\n",
    "    Equation used: q = UA(delta_T)"
   ]
  },
  {
   "cell_type": "code",
   "execution_count": 36,
   "metadata": {
    "collapsed": false
   },
   "outputs": [
    {
     "data": {
      "text/html": [
       "2.8865979381443303 btu/(delta_degF hour)"
      ],
      "text/latex": [
       "$2.8865979381443303 \\frac{btu}{\\left(delta_degF \\cdot hour\\right)}$"
      ],
      "text/plain": [
       "<Quantity(2.8865979381443303, 'btu / delta_degF / hour')>"
      ]
     },
     "execution_count": 36,
     "metadata": {},
     "output_type": "execute_result"
    }
   ],
   "source": [
    "area = 0.56 * u.foot**2\n",
    "wall_r_value = (0.18 + 0.014) * u.foot**2 * u.hour * u.delta_degF / u.BTU\n",
    "area / wall_r_value"
   ]
  },
  {
   "cell_type": "markdown",
   "metadata": {},
   "source": [
    "UA Product for the entire box\n",
    "\n",
    "To find the UA product for the entire box, we add UA product of the window to the UA product of the walls. Our box has a total UA product of 6.5 BTU/degF/hour."
   ]
  },
  {
   "cell_type": "code",
   "execution_count": 44,
   "metadata": {
    "collapsed": false
   },
   "outputs": [
    {
     "data": {
      "text/html": [
       "6.5 btu/(delta_degF hour)"
      ],
      "text/latex": [
       "$6.5 \\frac{btu}{\\left(delta_degF \\cdot hour\\right)}$"
      ],
      "text/plain": [
       "<Quantity(6.5, 'btu / delta_degF / hour')>"
      ]
     },
     "execution_count": 44,
     "metadata": {},
     "output_type": "execute_result"
    }
   ],
   "source": [
    "UA_walls = 3.6 * u.BTU / u.hour / u.delta_degF\n",
    "UA_window = 2.9 * u.BTU/ u.hour / u.delta_degF\n",
    "UA_walls + UA_window"
   ]
  },
  {
   "cell_type": "markdown",
   "metadata": {},
   "source": [
    "# Expected Solar Gain"
   ]
  },
  {
   "cell_type": "markdown",
   "metadata": {},
   "source": [
    "Solar Energy Captured by the Window\n",
    "\n",
    "To find out how much solar energy our window captures every day, we multiply the solar insolation value of our region (1300 BTU/ft^2/day) by the area of our window (0.56 ft^2) and then by the percentage of solar radiation that our window transmits (90%). Our window captures about 655 BTU/day.\n",
    "\n",
    "    Equation used: q = UA(delta_T) ---- q = Insolation * Area * Percent_Transmitted"
   ]
  },
  {
   "cell_type": "code",
   "execution_count": 49,
   "metadata": {
    "collapsed": false
   },
   "outputs": [
    {
     "data": {
      "text/html": [
       "655.2000000000002 btu/day"
      ],
      "text/latex": [
       "$655.2000000000002 \\frac{btu}{day}$"
      ],
      "text/plain": [
       "<Quantity(655.2000000000002, 'btu / day')>"
      ]
     },
     "execution_count": 49,
     "metadata": {},
     "output_type": "execute_result"
    }
   ],
   "source": [
    "Insolation = 1300 * u.BTU / u.foot**2 / u.day\n",
    "Area = 0.56 * u.foot**2\n",
    "Percent_Transmitted = 0.90\n",
    "\n",
    "Insolation * Area * Percent_Transmitted"
   ]
  },
  {
   "cell_type": "markdown",
   "metadata": {},
   "source": [
    "Nightly Energy Loss\n",
    "\n",
    "Next we found how much energy was lost through our window at night. To do this we multiplid the UA product of our window (2.9 BTU/degF/hour) by the temperature difference of an average night in Rohnert Park (60 degF - 45 degF) and then by the amount of hours in a night (12 hours). Our window losses about 522 BTU/night\n",
    "\n",
    "    Equation used: Q = UA(delta_T) * time"
   ]
  },
  {
   "cell_type": "code",
   "execution_count": 50,
   "metadata": {
    "collapsed": false
   },
   "outputs": [
    {
     "data": {
      "text/html": [
       "522.0 btu"
      ],
      "text/latex": [
       "$522.0 btu$"
      ],
      "text/plain": [
       "<Quantity(522.0, 'btu')>"
      ]
     },
     "execution_count": 50,
     "metadata": {},
     "output_type": "execute_result"
    }
   ],
   "source": [
    "UA_Window = 2.9 * u.BTU / u.delta_degF / u.hour\n",
    "Temp_Difference = 15 * u.delta_degF\n",
    "Night_Hours = 12 * u.hour\n",
    "\n",
    "UA_Window * Temp_Difference * Night_Hours"
   ]
  },
  {
   "cell_type": "markdown",
   "metadata": {},
   "source": [
    "Expected Solar Gain\n",
    "\n",
    "To find our expected solar gain, we subtracted our nightly energy loss (522 BTU) from the solar energy captured from the window in the day (655 BTU). Our expected solar gain through the window is 133 BTU."
   ]
  },
  {
   "cell_type": "code",
   "execution_count": 51,
   "metadata": {
    "collapsed": false
   },
   "outputs": [
    {
     "data": {
      "text/html": [
       "133 btu"
      ],
      "text/latex": [
       "$133 btu$"
      ],
      "text/plain": [
       "<Quantity(133, 'btu')>"
      ]
     },
     "execution_count": 51,
     "metadata": {},
     "output_type": "execute_result"
    }
   ],
   "source": [
    "Energy_Loss = 522 * u.BTU\n",
    "Energy_Gain = 655 * u.BTU\n",
    "\n",
    "Energy_Gain - Energy_Loss"
   ]
  },
  {
   "cell_type": "markdown",
   "metadata": {},
   "source": [
    "# Thermal Mass & Temp Storage Rise"
   ]
  },
  {
   "cell_type": "markdown",
   "metadata": {},
   "source": [
    "For our thermal mass we decided to use 3 Liters of water (or about 3000 grams) that was stored in 3 seperate bottles inside our box. To find how much temperature rise this water could bring to the inside our box, we divided the nightly energy loss of our box (522 BTU) by the mass of the water (3000 grams) and divided that by the heat capacity of water (4.18 Joule/gram/degF). Our added mass storage temperature rose to about 79 degF. Since the outside temperature is much colder than this, our box should stay above the outside temperature.\n",
    "\n",
    "    Equation used: Q = mC(delta_T)"
   ]
  },
  {
   "cell_type": "code",
   "execution_count": 52,
   "metadata": {
    "collapsed": false
   },
   "outputs": [
    {
     "data": {
      "text/html": [
       "0.0022010419793942588 btu/(delta_degF gram)"
      ],
      "text/latex": [
       "$0.0022010419793942588 \\frac{btu}{\\left(delta_degF \\cdot gram\\right)}$"
      ],
      "text/plain": [
       "<Quantity(0.0022010419793942588, 'btu / delta_degF / gram')>"
      ]
     },
     "execution_count": 52,
     "metadata": {},
     "output_type": "execute_result"
    }
   ],
   "source": [
    "Heat_Capacity = 4.18 * u.joule / u.gram / u.delta_degC\n",
    "(Heat_Capacity).to(u.BTU / u.gram / u.delta_degF)"
   ]
  },
  {
   "cell_type": "code",
   "execution_count": 53,
   "metadata": {
    "collapsed": false
   },
   "outputs": [
    {
     "data": {
      "text/html": [
       "79.09090909090908 delta_degF"
      ],
      "text/latex": [
       "$79.09090909090908 delta_degF$"
      ],
      "text/plain": [
       "<Quantity(79.09090909090908, 'delta_degF')>"
      ]
     },
     "execution_count": 53,
     "metadata": {},
     "output_type": "execute_result"
    }
   ],
   "source": [
    "Heat_Capacity = 0.0022 * u.BTU / u.delta_degF / u.gram\n",
    "Energy_Loss = 522 * u.BTU\n",
    "Mass_Storage = 3000 * u.gram\n",
    "\n",
    "Energy_Loss / (Mass_Storage * Heat_Capacity)"
   ]
  },
  {
   "cell_type": "markdown",
   "metadata": {},
   "source": [
    "# Results\n",
    "\n",
    "- Include a graph of your temperature performance inside and the temperature outside\n",
    "- Include a graph of the temperature difference over time\n",
    "- Are the results what you expect?\n",
    "    - The biggest surprise was the sudden and sharp drop around 7pm which is give or take the moment the sun stopped hitting the box. Of course we account for some heat loss but by that magnitude was so very surprising. \n",
    "- What design improvements would you make?\n",
    "    - One of the things we thought could possibly make the difference was addressing the rate of nightly heat loss. An increase of thermal mass would help with this problem. We had discussed putting in water bottles that were spray painted matte black in order to increase thermal mass and by painting it black we add an extra variable of emissivity in the mix."
   ]
  },
  {
   "cell_type": "code",
   "execution_count": 2,
   "metadata": {
    "collapsed": false
   },
   "outputs": [
    {
     "data": {
      "image/png": "[encoded data removed]",
      "text/plain": [
       "<matplotlib.figure.Figure at 0x7f9216103ef0>"
      ]
     },
     "metadata": {},
     "output_type": "display_data"
    }
   ],
   "source": [
    " %matplotlib inline\n",
    "import matplotlib.pyplot as plt\n",
    "import seaborn as sns\n",
    "import pandas as pd\n",
    "\n",
    "data = pd.read_csv('team_pie.csv', parse_dates=True, index_col=0)\n",
    "data['t_diff'] = data['t_in_C'] - data['t_out_C']\n",
    "data[['t_in_C', 't_out_C', 't_diff']].plot()\n",
    "plt.title('Team π')\n",
    "plt.ylabel('Temperature (C)')\n",
    "plt.show()"
   ]
  },
  {
   "cell_type": "markdown",
   "metadata": {},
   "source": [
    "# Contributions\n",
    "\n",
    "Each team member writes what their contributions to the project are.  \n",
    "You can also comment on how you facilitated teamwork during your project."
   ]
  },
  {
   "cell_type": "markdown",
   "metadata": {},
   "source": [
    "Jorge: Designed a 3-D model of our box so that we could accruately predict how much time we would have of \n",
    "direct sunlight and how to face the box to maximize the sunlight hours. This was helpful in getting an idea of how much sunlight gain we would have from our initial calculations. Also went out to gather extra materials for the box which included the reflective insulation tape.\n",
    "\n",
    "Josh:\n",
    "\n",
    "Sebastian: Contribution of measureing out the materials and cutting them, also the findings of how much solar gain we get through our windows and what the difference is of double pain glass. Gathering of materials and early meetings and testing and putting the box project out for the test run. \n",
    "\n",
    "Claudette: Helpful with continuously checking  and going over calculations. Going out and gathering any extra materials needed to build model, as well as helping build model over a series of day and outside hours. Communicating with everyone in order to meet outside of classroom hours."
   ]
  },
  {
   "cell_type": "code",
   "execution_count": null,
   "metadata": {
    "collapsed": true
   },
   "outputs": [],
   "source": []
  }
 ],
 "metadata": {
  "kernelspec": {
   "display_name": "Python 3",
   "language": "python",
   "name": "python3"
  },
  "language_info": {
   "codemirror_mode": {
    "name": "ipython",
    "version": 3
   },
   "file_extension": ".py",
   "mimetype": "text/x-python",
   "name": "python",
   "nbconvert_exporter": "python",
   "pygments_lexer": "ipython3",
   "version": "3.4.4"
  }
 },
 "nbformat": 4,
 "nbformat_minor": 0
}
